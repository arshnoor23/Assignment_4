{
  "nbformat": 4,
  "nbformat_minor": 0,
  "metadata": {
    "colab": {
      "provenance": [],
      "collapsed_sections": [],
      "authorship_tag": "ABX9TyON2s9PFSTncMveEhgLtmnO"
    },
    "kernelspec": {
      "name": "python3",
      "display_name": "Python 3"
    },
    "language_info": {
      "name": "python"
    }
  },
  "cells": [
    {
      "cell_type": "code",
      "execution_count": 1,
      "metadata": {
        "id": "ETtqx4asFn37"
      },
      "outputs": [],
      "source": [
        "import numpy as np\n",
        "import matplotlib.pyplot as plt"
      ]
    },
    {
      "cell_type": "code",
      "source": [
        "def diff_calculator(alpha,x1,x2,x3):\n",
        "  t = 0.4\n",
        "  obj = objective(x1,x2,x3)   # Objective Function\n",
        "  grad = -(5*x1*x2 + 21*x1*x3 - 16*x2*x3)/(10*x2 + 2*x3)  # Reduced Gradient with x1 as decision variable\n",
        "  f_alpha_grad = objective(x1+alpha*0.5*(5*x1*x2+21*x1*x3-16*x2*x3)/(5*x2+x3) , x2 - alpha*(0.1250*(25*x1 + 4*x3)*(5*x1*x2 + 21*x1*x3 - 16*x2*x3))/((5*x2 + x3)**2) , x3 - alpha*(0.6250*(5*x1 - 4*x2)*(5*x1*x2 + 21*x1*x3 - 16*x2*x3))/((5*x2 + x3)**2))\n",
        "  phi = objective(x1,x2,x3) - alpha*t*(0.5*(5*x1*x2+21*x1*x3-16*x2*x3))**2/((5*x2+x3)**2)\n",
        "  return f_alpha_grad - phi"
      ],
      "metadata": {
        "id": "ybzJJxb_VEiP"
      },
      "execution_count": 2,
      "outputs": []
    },
    {
      "cell_type": "code",
      "source": [
        "def objective(x1,x2,x3):\n",
        "  return x1**2 + x2**2 + x3**2"
      ],
      "metadata": {
        "id": "OmPnGUtp5V0Q"
      },
      "execution_count": 3,
      "outputs": []
    },
    {
      "cell_type": "code",
      "source": [
        "def line_search(alpha,x1,x2,x3):\n",
        "  count = 0\n",
        "  while count<1000:\n",
        "    if diff_calculator(alpha,x1,x2,x3)>0:\n",
        "      alpha = alpha*0.5\n",
        "      count = count+1\n",
        "    else:\n",
        "      break\n",
        "  return alpha"
      ],
      "metadata": {
        "id": "g-4mP4yXVI3Q"
      },
      "execution_count": 4,
      "outputs": []
    },
    {
      "cell_type": "code",
      "source": [
        "def constraints(x1,x2,x3):\n",
        "  h1 = (x1**2)/4 + (x2**2)/5 + (x3**2)/25 - 1\n",
        "  h2 = x1 + x2 - x3\n",
        "  return ([h1],\n",
        "           [h2])"
      ],
      "metadata": {
        "id": "l3zdxpA-hVJR"
      },
      "execution_count": 5,
      "outputs": []
    },
    {
      "cell_type": "code",
      "source": [
        "x1 = 0.1\n",
        "x2 = 2.0217\n",
        "x3 = 2.1217\n",
        "tol = 0.001\n",
        "epsilon = 0.001\n",
        "\n",
        "error = []\n",
        "count = 0 \n",
        "while (0.5*(5*x1*x2+21*x1*x3-16*x2*x3))**2/((5*x2+x3)**2) > tol and count<100:\n",
        "  err = (0.5*(5*x1*x2+21*x1*x3-16*x2*x3))**2/((5*x2+x3)**2)\n",
        "  error.append(err)\n",
        "  alpha = 1\n",
        "  alpha = line_search(alpha,x1,x2,x3)\n",
        "  x1 = x1 + alpha*0.5*(5*x1*x2+21*x1*x3-16*x2*x3)/(5*x2+x3)\n",
        "  s2 = x2 - alpha*(0.1250*(25*x1 + 4*x3)*(5*x1*x2 + 21*x1*x3 - 16*x2*x3))/((5*x2 + x3)**2)\n",
        "  s3 = x3 - alpha*(0.6250*(5*x1 - 4*x2)*(5*x1*x2 + 21*x1*x3 - 16*x2*x3))/((5*x2 + x3)**2)\n",
        "  h = constraints(x1,s2,s3)\n",
        "  while np.linalg.norm(h) > epsilon:\n",
        "    s_prime_2 = s2 - h[0][0]*12.5/(5*s2+s3) - h[1][0]*s3/(5*s2+s3)\n",
        "    s_prime_3 = s3 - h[0][0]*12.5/(5*s2+s3) + h[1][0]*5*s2/(5*s2+s3)\n",
        "    s2 = s_prime_2\n",
        "    s3 = s_prime_3\n",
        "    h = constraints(x1,s2,s3)\n",
        "  x2 = s_prime_2\n",
        "  x3 = s_prime_3\n",
        "  count = count + 1\n",
        "print(f'Optimal Solution  x1:{x1} , x2:{x2} , x3:{x3}')\n",
        "print(\"Objective function value: \", objective(x1,x2,x3))\n",
        "\n",
        "plt.plot(list(range(count)),error)\n",
        "plt.ylabel('Norm of Reduced Gradient of the function')\n",
        "plt.xlabel('Iterations')\n",
        "plt.title('Convergence Plot')"
      ],
      "metadata": {
        "colab": {
          "base_uri": "https://localhost:8080/",
          "height": 349
        },
        "id": "m7Iqw1RbdWNP",
        "outputId": "064d178c-7c2a-4404-9137-70f6dd2c45f1"
      },
      "execution_count": 17,
      "outputs": [
        {
          "output_type": "stream",
          "name": "stdout",
          "text": [
            "Optimal Solution  x1:-1.576567946207519 , x2:1.372866973139622 , x3:-0.2037009730678972\n",
            "Objective function value:  4.41182430137535\n"
          ]
        },
        {
          "output_type": "execute_result",
          "data": {
            "text/plain": [
              "Text(0.5, 1.0, 'Convergence Plot')"
            ]
          },
          "metadata": {},
          "execution_count": 17
        },
        {
          "output_type": "display_data",
          "data": {
            "text/plain": [
              "<Figure size 432x288 with 1 Axes>"
            ],
            "image/png": "[encoded data removed]"
          },
          "metadata": {
            "needs_background": "light"
          }
        }
      ]
    }
  ]
}